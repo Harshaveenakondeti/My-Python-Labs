{
    "cells": [
        {
            "metadata": {
                "collapsed": true
            },
            "cell_type": "markdown",
            "source": "# Functions\n\nA function is a reusable block of code which performed operations specified in the function.\nThere are two types of functions:\n* User defined functions.\n* pre- defined functions.\nRules to define:\n* Functions blocks begin def followed by the function name and parentheses ().\n* There are input parameters or arguments that should be placed within these parentheses.\n* You can also define parameters inside these parentheses.\n* There is a body within every function that starts with a colon (:) and is indented.\n* You can also place documentation before the body.\n* The statement return exits a function, optionally passing back a value."
        },
        {
            "metadata": {},
            "cell_type": "code",
            "source": "#  add function\ndef add(a):\n \n b = a + 1\n print(a,\"if u add 1\",b)  # it is the body\n return(b)\n\n\nadd(5)   #calling function\n",
            "execution_count": 89,
            "outputs": [
                {
                    "output_type": "stream",
                    "text": "5 if u add 1 6\n",
                    "name": "stdout"
                },
                {
                    "output_type": "execute_result",
                    "execution_count": 89,
                    "data": {
                        "text/plain": "6"
                    },
                    "metadata": {}
                }
            ]
        },
        {
            "metadata": {},
            "cell_type": "code",
            "source": "help(add)   # get a help on add function",
            "execution_count": 90,
            "outputs": [
                {
                    "output_type": "stream",
                    "text": "Help on function add in module __main__:\n\nadd(a)\n    #  add function\n\n",
                    "name": "stdout"
                }
            ]
        },
        {
            "metadata": {},
            "cell_type": "code",
            "source": "# define function for multiple two numbers\ndef mult(a,b):\n    c = a*b\n    return(c)\nprint('this is not printed')\nresult = mult(10,2)\nprint(result)",
            "execution_count": 91,
            "outputs": [
                {
                    "output_type": "stream",
                    "text": "this is not printed\n20\n",
                    "name": "stdout"
                }
            ]
        },
        {
            "metadata": {},
            "cell_type": "code",
            "source": "mult(2,3)   #multiply 2 integers",
            "execution_count": 92,
            "outputs": [
                {
                    "output_type": "execute_result",
                    "execution_count": 92,
                    "data": {
                        "text/plain": "6"
                    },
                    "metadata": {}
                }
            ]
        },
        {
            "metadata": {},
            "cell_type": "code",
            "source": "mult(2.3,3.4)   # multiply floats",
            "execution_count": 93,
            "outputs": [
                {
                    "output_type": "execute_result",
                    "execution_count": 93,
                    "data": {
                        "text/plain": "7.819999999999999"
                    },
                    "metadata": {}
                }
            ]
        },
        {
            "metadata": {},
            "cell_type": "code",
            "source": "mult(2,'hi ')  #multiply 2 types of values together",
            "execution_count": 94,
            "outputs": [
                {
                    "output_type": "execute_result",
                    "execution_count": 94,
                    "data": {
                        "text/plain": "'hi hi '"
                    },
                    "metadata": {}
                }
            ]
        },
        {
            "metadata": {},
            "cell_type": "markdown",
            "source": "## Variables\nA variable that is declared inside a function is called a local variable. The parameter only exists within the function (i.e. the point where the function starts and stops).\nA variable that is declared outside a function definition is a global variable, and its value is accessible and modifiable throughout the program."
        },
        {
            "metadata": {},
            "cell_type": "code",
            "source": "def square(a):\n    b = 1      # local variable b\n    c = a*a +b\n    print(a, \"if you square + 1 \",c)\n    return(c)\n\n",
            "execution_count": 95,
            "outputs": []
        },
        {
            "metadata": {},
            "cell_type": "code",
            "source": "# initialises global variable\nx = 3\ny = square(x)  #call function and return at y\ny",
            "execution_count": 96,
            "outputs": [
                {
                    "output_type": "stream",
                    "text": "3 if you square + 1  10\n",
                    "name": "stdout"
                },
                {
                    "output_type": "execute_result",
                    "execution_count": 96,
                    "data": {
                        "text/plain": "10"
                    },
                    "metadata": {}
                }
            ]
        },
        {
            "metadata": {},
            "cell_type": "code",
            "source": "square(2)  # directly number as parameter",
            "execution_count": 97,
            "outputs": [
                {
                    "output_type": "stream",
                    "text": "2 if you square + 1  5\n",
                    "name": "stdout"
                },
                {
                    "output_type": "execute_result",
                    "execution_count": 97,
                    "data": {
                        "text/plain": "5"
                    },
                    "metadata": {}
                }
            ]
        },
        {
            "metadata": {},
            "cell_type": "code",
            "source": "def hv():\n    print('harsha veena')  # define function without return value\ndef hv1():\n    print('harsha veena')   # define function with return value\n    return(None)",
            "execution_count": 98,
            "outputs": []
        },
        {
            "metadata": {},
            "cell_type": "code",
            "source": "hv()",
            "execution_count": 99,
            "outputs": [
                {
                    "output_type": "stream",
                    "text": "harsha veena\n",
                    "name": "stdout"
                }
            ]
        },
        {
            "metadata": {},
            "cell_type": "code",
            "source": "hv1()    #It gives output bcz none is a default return statement",
            "execution_count": 100,
            "outputs": [
                {
                    "output_type": "stream",
                    "text": "harsha veena\n",
                    "name": "stdout"
                }
            ]
        },
        {
            "metadata": {},
            "cell_type": "code",
            "source": "print(hv())\nprint(hv1())   ",
            "execution_count": 101,
            "outputs": [
                {
                    "output_type": "stream",
                    "text": "harsha veena\nNone\nharsha veena\nNone\n",
                    "name": "stdout"
                }
            ]
        },
        {
            "metadata": {},
            "cell_type": "code",
            "source": "# concatenate or combine strings\ndef con(a,b):\n    return(a+b)",
            "execution_count": 102,
            "outputs": []
        },
        {
            "metadata": {},
            "cell_type": "code",
            "source": "con('this','is')",
            "execution_count": 103,
            "outputs": [
                {
                    "output_type": "execute_result",
                    "execution_count": 103,
                    "data": {
                        "text/plain": "'thisis'"
                    },
                    "metadata": {}
                }
            ]
        },
        {
            "metadata": {},
            "cell_type": "code",
            "source": "# Block 1\n# a b calculation of block 1\na1 = 4\nb1 = 5\nc1 = a1 + b1 +2*a1*b1 -1\nif(c1<0):\n    c1 = 0\nelse:\n    c1 = 5\nc1",
            "execution_count": 104,
            "outputs": [
                {
                    "output_type": "execute_result",
                    "execution_count": 104,
                    "data": {
                        "text/plain": "5"
                    },
                    "metadata": {}
                }
            ]
        },
        {
            "metadata": {},
            "cell_type": "code",
            "source": "#Block 2\n# a b calculating Block 2\na2 = 0\nb2 = 0\nc2 = a2 + b2 +2*a2*b2 - 1\nif(c2<0):\n    c2 = 0\nelse:\n    c2 = 5\nc2",
            "execution_count": 105,
            "outputs": [
                {
                    "output_type": "execute_result",
                    "execution_count": 105,
                    "data": {
                        "text/plain": "0"
                    },
                    "metadata": {}
                }
            ]
        },
        {
            "metadata": {},
            "cell_type": "markdown",
            "source": "we can replace lines of code with a function.It can be used repeatedly in program and save it for onother program."
        },
        {
            "metadata": {},
            "cell_type": "code",
            "source": "def Equation(a,b):    #defining function for calulating both blocks 1 and 2\n    c = a + b + 2*a*b - 1\n    if(c<0):\n        c = 0\n    else:\n        c = 5\n    return(c)",
            "execution_count": 106,
            "outputs": []
        },
        {
            "metadata": {},
            "cell_type": "code",
            "source": "a1 = 4\nb1 = 5\nc1 = Equation(a1,b1)\nc1",
            "execution_count": 107,
            "outputs": [
                {
                    "output_type": "execute_result",
                    "execution_count": 107,
                    "data": {
                        "text/plain": "5"
                    },
                    "metadata": {}
                }
            ]
        },
        {
            "metadata": {},
            "cell_type": "code",
            "source": "a2 = 0\nb2 = 0\nc2 = Equation(a2,b2)\nc2",
            "execution_count": 108,
            "outputs": [
                {
                    "output_type": "execute_result",
                    "execution_count": 108,
                    "data": {
                        "text/plain": "0"
                    },
                    "metadata": {}
                }
            ]
        },
        {
            "metadata": {},
            "cell_type": "code",
            "source": "## Pre-defined functions\nthere are so may pre-defined functions like sum(), print(), len(),mul(),",
            "execution_count": 109,
            "outputs": [
                {
                    "output_type": "error",
                    "ename": "SyntaxError",
                    "evalue": "invalid syntax (<ipython-input-109-b459046ce05e>, line 2)",
                    "traceback": [
                        "\u001b[0;36m  File \u001b[0;32m\"<ipython-input-109-b459046ce05e>\"\u001b[0;36m, line \u001b[0;32m2\u001b[0m\n\u001b[0;31m    there are so may pre-defined functions like sum(), print(), len(),mul(),\u001b[0m\n\u001b[0m          ^\u001b[0m\n\u001b[0;31mSyntaxError\u001b[0m\u001b[0;31m:\u001b[0m invalid syntax\n"
                    ]
                }
            ]
        },
        {
            "metadata": {},
            "cell_type": "code",
            "source": "# built-in function\na = [1,2,3,4]\nprint(a)",
            "execution_count": 110,
            "outputs": [
                {
                    "output_type": "stream",
                    "text": "[1, 2, 3, 4]\n",
                    "name": "stdout"
                }
            ]
        },
        {
            "metadata": {},
            "cell_type": "code",
            "source": "a = [1,2,3]   # built-in function of sum\nsum(a)   # to add every element in list",
            "execution_count": 111,
            "outputs": [
                {
                    "output_type": "execute_result",
                    "execution_count": 111,
                    "data": {
                        "text/plain": "6"
                    },
                    "metadata": {}
                }
            ]
        },
        {
            "metadata": {},
            "cell_type": "code",
            "source": "len(a)   # to find number of elements in list",
            "execution_count": 112,
            "outputs": [
                {
                    "output_type": "execute_result",
                    "execution_count": 112,
                    "data": {
                        "text/plain": "3"
                    },
                    "metadata": {}
                }
            ]
        },
        {
            "metadata": {},
            "cell_type": "markdown",
            "source": "### Using if/else Statements and Loops in Functions\nThe return() function is particularly useful if you have any IF statements in the function, when you want your output to be dependent on some condition:"
        },
        {
            "metadata": {},
            "cell_type": "code",
            "source": "def students(name,age):\n    print(name,age)\n    if(age> 10):\n        return\"big\"\n    else:\n        return\"small\"\nx = students(\"harsha\",6)\nx",
            "execution_count": 113,
            "outputs": [
                {
                    "output_type": "stream",
                    "text": "harsha 6\n",
                    "name": "stdout"
                },
                {
                    "output_type": "execute_result",
                    "execution_count": 113,
                    "data": {
                        "text/plain": "'small'"
                    },
                    "metadata": {}
                }
            ]
        },
        {
            "metadata": {},
            "cell_type": "code",
            "source": "def printlist(list):    # print list using for loop\n    for element in list:\n        print(element)",
            "execution_count": 114,
            "outputs": []
        },
        {
            "metadata": {},
            "cell_type": "code",
            "source": "printlist(['1','2',3,'hi','hello'])",
            "execution_count": 115,
            "outputs": [
                {
                    "output_type": "stream",
                    "text": "1\n2\n3\nhi\nhello\n",
                    "name": "stdout"
                }
            ]
        },
        {
            "metadata": {},
            "cell_type": "code",
            "source": "# set the default value\ndef agelimit(age = 18):\n    if(age<20):\n        print(\"eligible\")\n    else:\n        print(\"not eligible\")",
            "execution_count": 116,
            "outputs": []
        },
        {
            "metadata": {},
            "cell_type": "code",
            "source": "agelimit()\nagelimit(25)",
            "execution_count": 117,
            "outputs": [
                {
                    "output_type": "stream",
                    "text": "eligible\nnot eligible\n",
                    "name": "stdout"
                }
            ]
        },
        {
            "metadata": {},
            "cell_type": "code",
            "source": "# global variable\nname = \"harsha\"\ndef printer1(name):\n    x1 = name\n    print(name,\" is good\")\nprinter1(name)\nprinter1(x1)   # gives error bcz of x is not defined\n",
            "execution_count": 118,
            "outputs": [
                {
                    "output_type": "stream",
                    "text": "harsha  is good\n",
                    "name": "stdout"
                },
                {
                    "output_type": "error",
                    "ename": "NameError",
                    "evalue": "name 'x1' is not defined",
                    "traceback": [
                        "\u001b[0;31m---------------------------------------------------------------------------\u001b[0m",
                        "\u001b[0;31mNameError\u001b[0m                                 Traceback (most recent call last)",
                        "\u001b[0;32m<ipython-input-118-a8c0abfd5928>\u001b[0m in \u001b[0;36m<module>\u001b[0;34m\u001b[0m\n\u001b[1;32m      5\u001b[0m     \u001b[0mprint\u001b[0m\u001b[0;34m(\u001b[0m\u001b[0mname\u001b[0m\u001b[0;34m,\u001b[0m\u001b[0;34m\" is good\"\u001b[0m\u001b[0;34m)\u001b[0m\u001b[0;34m\u001b[0m\u001b[0;34m\u001b[0m\u001b[0m\n\u001b[1;32m      6\u001b[0m \u001b[0mprinter1\u001b[0m\u001b[0;34m(\u001b[0m\u001b[0mname\u001b[0m\u001b[0;34m)\u001b[0m\u001b[0;34m\u001b[0m\u001b[0;34m\u001b[0m\u001b[0m\n\u001b[0;32m----> 7\u001b[0;31m \u001b[0mprinter1\u001b[0m\u001b[0;34m(\u001b[0m\u001b[0mx1\u001b[0m\u001b[0;34m)\u001b[0m   \u001b[0;31m# gives error bcz of x is not defined\u001b[0m\u001b[0;34m\u001b[0m\u001b[0;34m\u001b[0m\u001b[0m\n\u001b[0m",
                        "\u001b[0;31mNameError\u001b[0m: name 'x1' is not defined"
                    ]
                }
            ]
        },
        {
            "metadata": {},
            "cell_type": "code",
            "source": "name = \"harsha\"\ndef printer(name):\n    global x\n    x = \"veena\"\n    print(name,\" is good\")\nprinter(name)\nprinter(x)  ",
            "execution_count": 119,
            "outputs": [
                {
                    "output_type": "stream",
                    "text": "harsha  is good\nveena  is good\n",
                    "name": "stdout"
                }
            ]
        },
        {
            "metadata": {},
            "cell_type": "markdown",
            "source": "### Scope of variable\nThe scope of variable is the part of that program where that variable is accesible."
        },
        {
            "metadata": {},
            "cell_type": "code",
            "source": "toprating =\"cuckoo\"\ndef songrating(song):\n    if song == toprating:\n        return 10\n    else:\n        return 'ok'\nprint(\"cuckoo rating is\",songrating(\"cuckoo\"))\nprint(\"mahi rating is\",songrating(\"mahi\"))\nprint(\"my fav song is\",toprating)  #here toprating is outside the function but we can acess it\n",
            "execution_count": 120,
            "outputs": [
                {
                    "output_type": "stream",
                    "text": "cuckoo rating is 10\nmahi rating is ok\nmy fav song is cuckoo\n",
                    "name": "stdout"
                }
            ]
        },
        {
            "metadata": {},
            "cell_type": "code",
            "source": "del toprating \ndef songrating(song):\n    toprating = \"cuckoo\"  # local variable within the songrating function\n    if song == toprating:\n        return 10\n    else:\n        return 'ok'\nprint(\"cuckoo rating is\",songrating(\"cuckoo\"))\nprint(\"mahi rating is\",songrating(\"mahi\"))\nprint(\"my fav song is\",toprating)",
            "execution_count": 121,
            "outputs": [
                {
                    "output_type": "stream",
                    "text": "cuckoo rating is 10\nmahi rating is ok\n",
                    "name": "stdout"
                },
                {
                    "output_type": "error",
                    "ename": "NameError",
                    "evalue": "name 'toprating' is not defined",
                    "traceback": [
                        "\u001b[0;31m---------------------------------------------------------------------------\u001b[0m",
                        "\u001b[0;31mNameError\u001b[0m                                 Traceback (most recent call last)",
                        "\u001b[0;32m<ipython-input-121-454398c839c9>\u001b[0m in \u001b[0;36m<module>\u001b[0;34m\u001b[0m\n\u001b[1;32m      8\u001b[0m \u001b[0mprint\u001b[0m\u001b[0;34m(\u001b[0m\u001b[0;34m\"cuckoo rating is\"\u001b[0m\u001b[0;34m,\u001b[0m\u001b[0msongrating\u001b[0m\u001b[0;34m(\u001b[0m\u001b[0;34m\"cuckoo\"\u001b[0m\u001b[0;34m)\u001b[0m\u001b[0;34m)\u001b[0m\u001b[0;34m\u001b[0m\u001b[0;34m\u001b[0m\u001b[0m\n\u001b[1;32m      9\u001b[0m \u001b[0mprint\u001b[0m\u001b[0;34m(\u001b[0m\u001b[0;34m\"mahi rating is\"\u001b[0m\u001b[0;34m,\u001b[0m\u001b[0msongrating\u001b[0m\u001b[0;34m(\u001b[0m\u001b[0;34m\"mahi\"\u001b[0m\u001b[0;34m)\u001b[0m\u001b[0;34m)\u001b[0m\u001b[0;34m\u001b[0m\u001b[0;34m\u001b[0m\u001b[0m\n\u001b[0;32m---> 10\u001b[0;31m \u001b[0mprint\u001b[0m\u001b[0;34m(\u001b[0m\u001b[0;34m\"my fav song is\"\u001b[0m\u001b[0;34m,\u001b[0m\u001b[0mtoprating\u001b[0m\u001b[0;34m)\u001b[0m\u001b[0;34m\u001b[0m\u001b[0;34m\u001b[0m\u001b[0m\n\u001b[0m",
                        "\u001b[0;31mNameError\u001b[0m: name 'toprating' is not defined"
                    ]
                }
            ]
        },
        {
            "metadata": {},
            "cell_type": "code",
            "source": "toprating =\"cuckoo\"   #global scope variable\ndef songrating(song):\n    toprating = \"mahi\"   #local variable\n    if song == toprating:  # it takes local variable\n        return 10\n    else:\n        return 'ok'\nprint(\"cuckoo rating is\",songrating(\"cuckoo\"))\nprint(\"mahi rating is\",songrating(\"mahi\"))\nprint(\"my fav song is\",toprating)  # it use global scope variable",
            "execution_count": 122,
            "outputs": [
                {
                    "output_type": "stream",
                    "text": "cuckoo rating is ok\nmahi rating is 10\nmy fav song is cuckoo\n",
                    "name": "stdout"
                }
            ]
        },
        {
            "metadata": {},
            "cell_type": "markdown",
            "source": "## collections and functions\nWhen the number of arguments are unknown for a function, They can all be packed into a tuple as shown:"
        },
        {
            "metadata": {},
            "cell_type": "code",
            "source": "def printall(*arg):\n    print(\"no. of arguments:\", len(arg))\n    for argument in arg:\n        print(argument)\n\nprintall('action','comedy','horror') #printall with 3 aregumants\nprintall('hero','villian','heroen','comedian')# printall with 4 arguments",
            "execution_count": 123,
            "outputs": [
                {
                    "output_type": "stream",
                    "text": "no. of arguments: 3\naction\ncomedy\nhorror\nno. of arguments: 4\nhero\nvillian\nheroen\ncomedian\n",
                    "name": "stdout"
                }
            ]
        },
        {
            "metadata": {},
            "cell_type": "code",
            "source": "# arguments also packed into dictionary\ndef printDictionary(**arg):\n    for key in arg:\n        print(key + \":\" + arg[key])\nprintDictionary(country='india',provience='dubai',city='uae')",
            "execution_count": 124,
            "outputs": [
                {
                    "output_type": "stream",
                    "text": "country:india\nprovience:dubai\ncity:uae\n",
                    "name": "stdout"
                }
            ]
        },
        {
            "metadata": {},
            "cell_type": "code",
            "source": "def additems(list):\n    list.append(\"uae\")\n    list.append(\"dubai\")\nmylist = [\"india\",\"sharjah\",\"qatar\"]\nadditems(mylist)\nmylist",
            "execution_count": 125,
            "outputs": [
                {
                    "output_type": "execute_result",
                    "execution_count": 125,
                    "data": {
                        "text/plain": "['india', 'sharjah', 'qatar', 'uae', 'dubai']"
                    },
                    "metadata": {}
                }
            ]
        },
        {
            "metadata": {},
            "cell_type": "markdown",
            "source": "## Summary\nIn this lab we have learned about functions. user defined functiona and pred efined functions."
        },
        {
            "metadata": {},
            "cell_type": "code",
            "source": "",
            "execution_count": null,
            "outputs": []
        },
        {
            "metadata": {},
            "cell_type": "code",
            "source": "",
            "execution_count": null,
            "outputs": []
        }
    ],
    "metadata": {
        "kernelspec": {
            "name": "python3",
            "display_name": "Python 3.8",
            "language": "python"
        },
        "language_info": {
            "name": "python",
            "version": "3.8.11",
            "mimetype": "text/x-python",
            "codemirror_mode": {
                "name": "ipython",
                "version": 3
            },
            "pygments_lexer": "ipython3",
            "nbconvert_exporter": "python",
            "file_extension": ".py"
        }
    },
    "nbformat": 4,
    "nbformat_minor": 1
}