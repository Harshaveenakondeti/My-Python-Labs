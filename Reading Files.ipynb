{
    "cells": [
        {
            "metadata": {
                "collapsed": true
            },
            "cell_type": "markdown",
            "source": "# Reading Files\n* Download Data\n* Reading Text files.\n* Open a file "
        },
        {
            "metadata": {
                "collapsed": true
            },
            "cell_type": "code",
            "source": "# Download data\n# import url\nimport urllib.request       # url is from IBM course\nurl = 'https://cf-courses-data.s3.us.cloud-object-storage.appdomain.cloud/IBMDeveloperSkillsNetwork-PY0101EN-SkillsNetwork/labs/Module%204/data/example1.txt'\nfilename = 'Example1.txt'\nurllib.request.urlretrieve(url,filename)\n",
            "execution_count": 38,
            "outputs": [
                {
                    "output_type": "execute_result",
                    "execution_count": 38,
                    "data": {
                        "text/plain": "('Example1.txt', <http.client.HTTPMessage at 0x7f6cb01770a0>)"
                    },
                    "metadata": {}
                }
            ]
        },
        {
            "metadata": {
                "collapsed": true
            },
            "cell_type": "code",
            "source": "#Download file\n!wget -O /resources/data/Example1.txt https://cf-courses-data.s3.us.cloud-object-storage.appdomain.cloud/IBMDeveloperSkillsNetwork-PY0101EN-SkillsNetwork/labs/Module%204/data/example1.txt",
            "execution_count": 6,
            "outputs": [
                {
                    "output_type": "stream",
                    "text": "/resources/data/Example1.txt: No such file or directory\r\n",
                    "name": "stdout"
                }
            ]
        },
        {
            "metadata": {},
            "cell_type": "code",
            "source": "# read file\nexample1 = \"Example1.txt\"\nfile1 = open(example1,\"r\")",
            "execution_count": 8,
            "outputs": []
        },
        {
            "metadata": {
                "collapsed": true
            },
            "cell_type": "code",
            "source": "file1.name    # to read the name of file",
            "execution_count": 9,
            "outputs": [
                {
                    "output_type": "execute_result",
                    "execution_count": 9,
                    "data": {
                        "text/plain": "'Example1.txt'"
                    },
                    "metadata": {}
                }
            ]
        },
        {
            "metadata": {
                "collapsed": true
            },
            "cell_type": "code",
            "source": "file1.mode   # to find the mode of file",
            "execution_count": 10,
            "outputs": [
                {
                    "output_type": "execute_result",
                    "execution_count": 10,
                    "data": {
                        "text/plain": "'r'"
                    },
                    "metadata": {}
                }
            ]
        },
        {
            "metadata": {
                "collapsed": true
            },
            "cell_type": "code",
            "source": "file1.read()   # to read file",
            "execution_count": 11,
            "outputs": [
                {
                    "output_type": "execute_result",
                    "execution_count": 11,
                    "data": {
                        "text/plain": "'This is line 1 \\nThis is line 2\\nThis is line 3'"
                    },
                    "metadata": {}
                }
            ]
        },
        {
            "metadata": {
                "collapsed": true
            },
            "cell_type": "code",
            "source": "type(file1)   # to find type of file",
            "execution_count": 15,
            "outputs": [
                {
                    "output_type": "execute_result",
                    "execution_count": 15,
                    "data": {
                        "text/plain": "_io.TextIOWrapper"
                    },
                    "metadata": {}
                }
            ]
        },
        {
            "metadata": {},
            "cell_type": "code",
            "source": "file1.close()     # to close file and it is mandatory after reading file",
            "execution_count": 16,
            "outputs": []
        },
        {
            "metadata": {
                "collapsed": true
            },
            "cell_type": "code",
            "source": "# open file using with\nwith open(example1,\"r\") as file1:\n    FileContent = file1.read()\n    print(FileContent)       # it will close file automatically",
            "execution_count": 17,
            "outputs": [
                {
                    "output_type": "stream",
                    "text": "This is line 1 \nThis is line 2\nThis is line 3\n",
                    "name": "stdout"
                }
            ]
        },
        {
            "metadata": {
                "collapsed": true
            },
            "cell_type": "code",
            "source": "file1.closed       # checking file closed or not",
            "execution_count": 18,
            "outputs": [
                {
                    "output_type": "execute_result",
                    "execution_count": 18,
                    "data": {
                        "text/plain": "True"
                    },
                    "metadata": {}
                }
            ]
        },
        {
            "metadata": {
                "collapsed": true
            },
            "cell_type": "code",
            "source": "# we can read charecters\nwith open(example1,\"r\") as file1:\n    FileContent = file1.read(4)\n    print(FileContent)",
            "execution_count": 20,
            "outputs": [
                {
                    "output_type": "stream",
                    "text": "This\n",
                    "name": "stdout"
                }
            ]
        },
        {
            "metadata": {
                "collapsed": true
            },
            "cell_type": "code",
            "source": "# read oneline using readline():\nwith open(example1,\"r\") as file1:\n    print(\"first line : \" + file1.readline())",
            "execution_count": 21,
            "outputs": [
                {
                    "output_type": "stream",
                    "text": "first line : This is line 1 \n\n",
                    "name": "stdout"
                }
            ]
        },
        {
            "metadata": {
                "collapsed": true
            },
            "cell_type": "code",
            "source": "# read  charecters using read and readline\nwith open(example1,\"r\") as file1:\n    print(\"using readline : \" + file1.readline(17))   # it will read only in one line\n    print(\"using raed : \"+ file1.read(17))         # it will take charecters from nextline also",
            "execution_count": 24,
            "outputs": [
                {
                    "output_type": "stream",
                    "text": "using readline : This is line 1 \n\nusing raed : This is line 2\nTh\n",
                    "name": "stdout"
                }
            ]
        },
        {
            "metadata": {
                "collapsed": true
            },
            "cell_type": "code",
            "source": "# iterate through lines\nwith open(example1,\"r\") as file1:\n\n    i = 0;\n    for line in file1:\n         print(\"iteration[i]: \" ,line)\n    i = i+1",
            "execution_count": 32,
            "outputs": [
                {
                    "output_type": "stream",
                    "text": "iteration[i]:  This is line 1 \n\niteration[i]:  This is line 2\n\niteration[i]:  This is line 3\n",
                    "name": "stdout"
                }
            ]
        },
        {
            "metadata": {},
            "cell_type": "code",
            "source": "# use readline() to save the file as list\nwith open(example1,\"r\") as file1:\n    Fileaslist = file1.readlines()\n   ",
            "execution_count": 36,
            "outputs": []
        },
        {
            "metadata": {
                "collapsed": true
            },
            "cell_type": "code",
            "source": " Fileaslist[1]",
            "execution_count": 37,
            "outputs": [
                {
                    "output_type": "execute_result",
                    "execution_count": 37,
                    "data": {
                        "text/plain": "'This is line 2\\n'"
                    },
                    "metadata": {}
                }
            ]
        },
        {
            "metadata": {},
            "cell_type": "markdown",
            "source": "# Summary\nIn this lab we have learned about downloading url,downloading data,read a file,reada line,read charecters,open file using with,iteration in reading lines,saving file as list"
        }
    ],
    "metadata": {
        "kernelspec": {
            "name": "python3",
            "display_name": "Python 3.8",
            "language": "python"
        },
        "language_info": {
            "name": "python",
            "version": "3.8.11",
            "mimetype": "text/x-python",
            "codemirror_mode": {
                "name": "ipython",
                "version": 3
            },
            "pygments_lexer": "ipython3",
            "nbconvert_exporter": "python",
            "file_extension": ".py"
        }
    },
    "nbformat": 4,
    "nbformat_minor": 1
}