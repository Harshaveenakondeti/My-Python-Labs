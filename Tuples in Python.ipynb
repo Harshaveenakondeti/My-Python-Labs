{
    "cells": [
        {
            "metadata": {
                "collapsed": true
            },
            "cell_type": "markdown",
            "source": "# Tuples in Python\n \n In this lab we are going to learn about indexing in tuples, slicing in tuples,concatinating of tuples and sorting of tuples. Tuples contain integer floats ,strings ."
        },
        {
            "metadata": {},
            "cell_type": "code",
            "source": "# create tuple\n\ntuple1 = (\"hi\",1,2.3)\ntuple1",
            "execution_count": 1,
            "outputs": [
                {
                    "output_type": "execute_result",
                    "execution_count": 1,
                    "data": {
                        "text/plain": "('hi', 1, 2.3)"
                    },
                    "metadata": {}
                }
            ]
        },
        {
            "metadata": {},
            "cell_type": "code",
            "source": "# print the type of tuple\ntype(tuple1)",
            "execution_count": 2,
            "outputs": [
                {
                    "output_type": "execute_result",
                    "execution_count": 2,
                    "data": {
                        "text/plain": "tuple"
                    },
                    "metadata": {}
                }
            ]
        },
        {
            "metadata": {},
            "cell_type": "markdown",
            "source": "## Indexing\nEach element of a tuple can be accesed via an index. Here indexing is positive and negative."
        },
        {
            "metadata": {},
            "cell_type": "code",
            "source": "tuple1[0]   # [0] is for accesing first element",
            "execution_count": 3,
            "outputs": [
                {
                    "output_type": "execute_result",
                    "execution_count": 3,
                    "data": {
                        "text/plain": "'hi'"
                    },
                    "metadata": {}
                }
            ]
        },
        {
            "metadata": {},
            "cell_type": "code",
            "source": "tuple1[-1]    #[-1] is for accesing last element",
            "execution_count": 5,
            "outputs": [
                {
                    "output_type": "execute_result",
                    "execution_count": 5,
                    "data": {
                        "text/plain": "2.3"
                    },
                    "metadata": {}
                }
            ]
        },
        {
            "metadata": {},
            "cell_type": "code",
            "source": "# print each type of value of each element in tuple\nprint(type(tuple1[0]))\nprint(type(tuple1[1]))\nprint(type(tuple1[2]))",
            "execution_count": 6,
            "outputs": [
                {
                    "output_type": "stream",
                    "text": "<class 'str'>\n<class 'int'>\n<class 'float'>\n",
                    "name": "stdout"
                }
            ]
        },
        {
            "metadata": {},
            "cell_type": "markdown",
            "source": "## Concatenate Tuples\nWe can concatenate or combine tuples by using + sign"
        },
        {
            "metadata": {},
            "cell_type": "code",
            "source": "tuple2 = tuple1 + (\"hello\",1)    # combininh of tuples\ntuple2",
            "execution_count": 7,
            "outputs": [
                {
                    "output_type": "execute_result",
                    "execution_count": 7,
                    "data": {
                        "text/plain": "('hi', 1, 2.3, 'hello', 1)"
                    },
                    "metadata": {}
                }
            ]
        },
        {
            "metadata": {},
            "cell_type": "markdown",
            "source": "### Slicing\nWe can slice tuples, obtaining new tuples with the corresponding elements."
        },
        {
            "metadata": {},
            "cell_type": "code",
            "source": "# slice from index 0 to index 2\ntuple2[0:3]",
            "execution_count": 8,
            "outputs": [
                {
                    "output_type": "execute_result",
                    "execution_count": 8,
                    "data": {
                        "text/plain": "('hi', 1, 2.3)"
                    },
                    "metadata": {}
                }
            ]
        },
        {
            "metadata": {},
            "cell_type": "markdown",
            "source": "### Length"
        },
        {
            "metadata": {},
            "cell_type": "code",
            "source": "# get the length of tuple\nlen(tuple2)",
            "execution_count": 9,
            "outputs": [
                {
                    "output_type": "execute_result",
                    "execution_count": 9,
                    "data": {
                        "text/plain": "5"
                    },
                    "metadata": {}
                }
            ]
        },
        {
            "metadata": {},
            "cell_type": "markdown",
            "source": "### Sorting\nWe can sort the values in a tuple and save it in a new tuple"
        },
        {
            "metadata": {},
            "cell_type": "code",
            "source": "tuple3 = (9,4,6,2,8,7,0,1)\ntuple4 = sorted(tuple3)   # we can get sorted values in tuples\ntuple4",
            "execution_count": 10,
            "outputs": [
                {
                    "output_type": "execute_result",
                    "execution_count": 10,
                    "data": {
                        "text/plain": "[0, 1, 2, 4, 6, 7, 8, 9]"
                    },
                    "metadata": {}
                }
            ]
        },
        {
            "metadata": {},
            "cell_type": "markdown",
            "source": "### Nested Tuple\nA tuple can contain another tuple as well as other more complex data types. this process is 'nesting'."
        },
        {
            "metadata": {},
            "cell_type": "code",
            "source": "# create a new nested tuple\n\nnestedT = (1,2,(3,4),5,(\"hi\",20.2))\nNT= nestedT\nNT[0]",
            "execution_count": 11,
            "outputs": [
                {
                    "output_type": "execute_result",
                    "execution_count": 11,
                    "data": {
                        "text/plain": "1"
                    },
                    "metadata": {}
                }
            ]
        },
        {
            "metadata": {},
            "cell_type": "code",
            "source": "NT[2]",
            "execution_count": 12,
            "outputs": [
                {
                    "output_type": "execute_result",
                    "execution_count": 12,
                    "data": {
                        "text/plain": "(3, 4)"
                    },
                    "metadata": {}
                }
            ]
        },
        {
            "metadata": {},
            "cell_type": "code",
            "source": "NT[2][0]   #It will access index 0 element in index[2] of tuple",
            "execution_count": 13,
            "outputs": [
                {
                    "output_type": "execute_result",
                    "execution_count": 13,
                    "data": {
                        "text/plain": "3"
                    },
                    "metadata": {}
                }
            ]
        },
        {
            "metadata": {},
            "cell_type": "code",
            "source": "NT[4][0][0]    # it will acess string in index[0] of index[4] ",
            "execution_count": 14,
            "outputs": [
                {
                    "output_type": "execute_result",
                    "execution_count": 14,
                    "data": {
                        "text/plain": "'h'"
                    },
                    "metadata": {}
                }
            ]
        },
        {
            "metadata": {},
            "cell_type": "markdown",
            "source": "### Summary\nIn this lab we learned about tuples,indexing of tuples,nesting of tuples,slicing of tuples, sorting of tuples and concatinating of tuples."
        }
    ],
    "metadata": {
        "kernelspec": {
            "name": "python3",
            "display_name": "Python 3.8",
            "language": "python"
        },
        "language_info": {
            "name": "python",
            "version": "3.8.11",
            "mimetype": "text/x-python",
            "codemirror_mode": {
                "name": "ipython",
                "version": 3
            },
            "pygments_lexer": "ipython3",
            "nbconvert_exporter": "python",
            "file_extension": ".py"
        }
    },
    "nbformat": 4,
    "nbformat_minor": 1
}