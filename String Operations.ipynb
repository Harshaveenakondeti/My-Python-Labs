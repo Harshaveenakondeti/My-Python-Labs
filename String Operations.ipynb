{
    "cells": [
        {
            "metadata": {
                "collapsed": true
            },
            "cell_type": "markdown",
            "source": "# String Operations\n\n\n## to focus\n* working with strings\n* Perform Operations on strings\n* manipulate strings using indexing and escape sequences\n"
        },
        {
            "metadata": {},
            "cell_type": "code",
            "source": "#Assign string to variable\n\nname = \"Harsha Veena\"\nname\n",
            "execution_count": 2,
            "outputs": [
                {
                    "output_type": "execute_result",
                    "execution_count": 2,
                    "data": {
                        "text/plain": "'Harsha Veena'"
                    },
                    "metadata": {}
                }
            ]
        },
        {
            "metadata": {},
            "cell_type": "markdown",
            "source": "# Indexing"
        },
        {
            "metadata": {},
            "cell_type": "code",
            "source": "name[0]  #indexing strts from 0",
            "execution_count": 4,
            "outputs": [
                {
                    "output_type": "execute_result",
                    "execution_count": 4,
                    "data": {
                        "text/plain": "'H'"
                    },
                    "metadata": {}
                }
            ]
        },
        {
            "metadata": {},
            "cell_type": "code",
            "source": "name[8]",
            "execution_count": 5,
            "outputs": [
                {
                    "output_type": "execute_result",
                    "execution_count": 5,
                    "data": {
                        "text/plain": "'e'"
                    },
                    "metadata": {}
                }
            ]
        },
        {
            "metadata": {},
            "cell_type": "code",
            "source": "name[-1] #indexing can be done with negative values and -1 is last string",
            "execution_count": 7,
            "outputs": [
                {
                    "output_type": "execute_result",
                    "execution_count": 7,
                    "data": {
                        "text/plain": "'a'"
                    },
                    "metadata": {}
                }
            ]
        },
        {
            "metadata": {},
            "cell_type": "code",
            "source": "len(\"Harsha Veena\")    #finding the length of strings",
            "execution_count": 9,
            "outputs": [
                {
                    "output_type": "execute_result",
                    "execution_count": 9,
                    "data": {
                        "text/plain": "12"
                    },
                    "metadata": {}
                }
            ]
        },
        {
            "metadata": {},
            "cell_type": "markdown",
            "source": "## Slicing"
        },
        {
            "metadata": {},
            "cell_type": "code",
            "source": "name[:4]",
            "execution_count": 10,
            "outputs": [
                {
                    "output_type": "execute_result",
                    "execution_count": 10,
                    "data": {
                        "text/plain": "'Hars'"
                    },
                    "metadata": {}
                }
            ]
        },
        {
            "metadata": {},
            "cell_type": "markdown",
            "source": "Here we sliced the string fron index 0-4th element\n"
        },
        {
            "metadata": {},
            "cell_type": "code",
            "source": "name[4:11]   # Here we sliced the string from 4th element to 11th element",
            "execution_count": 11,
            "outputs": [
                {
                    "output_type": "execute_result",
                    "execution_count": 11,
                    "data": {
                        "text/plain": "'ha Veen'"
                    },
                    "metadata": {}
                }
            ]
        },
        {
            "metadata": {},
            "cell_type": "markdown",
            "source": "### Stride\nwe can take elements in string by skip numberwise like 0,2,4,6... like tha elements display"
        },
        {
            "metadata": {},
            "cell_type": "code",
            "source": "name[::2]    #Here from the whole strings we chose only every 2nd element",
            "execution_count": 12,
            "outputs": [
                {
                    "output_type": "execute_result",
                    "execution_count": 12,
                    "data": {
                        "text/plain": "'Hrh en'"
                    },
                    "metadata": {}
                }
            ]
        },
        {
            "metadata": {},
            "cell_type": "code",
            "source": "name[1:5:2]     #here from 1st element to 5th element we choose every 2nd element",
            "execution_count": 14,
            "outputs": [
                {
                    "output_type": "execute_result",
                    "execution_count": 14,
                    "data": {
                        "text/plain": "'as'"
                    },
                    "metadata": {}
                }
            ]
        },
        {
            "metadata": {},
            "cell_type": "markdown",
            "source": "### Concanate Strings\n\nWe use addition to strings(+)"
        },
        {
            "metadata": {},
            "cell_type": "code",
            "source": "name = \"harsha\"            #Here we are assigning harsha string first then we are doing addition of strings with new string veena \nname = name + \" veena\"\nname",
            "execution_count": 20,
            "outputs": [
                {
                    "output_type": "execute_result",
                    "execution_count": 20,
                    "data": {
                        "text/plain": "'harsha veena'"
                    },
                    "metadata": {}
                }
            ]
        },
        {
            "metadata": {},
            "cell_type": "code",
            "source": "3*\"veena \"     #doing multiplication , here it will print string by 3 times",
            "execution_count": 22,
            "outputs": [
                {
                    "output_type": "execute_result",
                    "execution_count": 22,
                    "data": {
                        "text/plain": "'veena veena veena '"
                    },
                    "metadata": {}
                }
            ]
        },
        {
            "metadata": {},
            "cell_type": "markdown",
            "source": "## Escape sequences\n"
        },
        {
            "metadata": {},
            "cell_type": "code",
            "source": "print(\"harsha is \\n good\")    #\\n is used for creating new line\n",
            "execution_count": 26,
            "outputs": [
                {
                    "output_type": "stream",
                    "text": "harsha is \n good\n",
                    "name": "stdout"
                }
            ]
        },
        {
            "metadata": {},
            "cell_type": "code",
            "source": "print(\"harsha is\\t good\")    #\\t is used to tab space",
            "execution_count": 27,
            "outputs": [
                {
                    "output_type": "stream",
                    "text": "harsha is\t good\n",
                    "name": "stdout"
                }
            ]
        },
        {
            "metadata": {},
            "cell_type": "code",
            "source": "print(\"harsha\\\\veena is good\")\nprint(r\"harsha\\veena is good\")     #for backlash we use \\\\ or r used before string",
            "execution_count": 29,
            "outputs": [
                {
                    "output_type": "stream",
                    "text": "harsha\\veena is good\nharsha\\veena is good\n",
                    "name": "stdout"
                }
            ]
        },
        {
            "metadata": {},
            "cell_type": "markdown",
            "source": "### String Operations\n\nWe will do operations like changing to upper case or lower case"
        },
        {
            "metadata": {},
            "cell_type": "code",
            "source": "a = \"this is cool\"\nb = a.upper()          #this is to perform string operation of a to convert in to uppercase and store in b\nb",
            "execution_count": 30,
            "outputs": [
                {
                    "output_type": "execute_result",
                    "execution_count": 30,
                    "data": {
                        "text/plain": "'THIS IS COOL'"
                    },
                    "metadata": {}
                }
            ]
        },
        {
            "metadata": {},
            "cell_type": "code",
            "source": "c = b.lower()    #this is to perform string operation in b from upper to lower case\nc",
            "execution_count": 32,
            "outputs": [
                {
                    "output_type": "execute_result",
                    "execution_count": 32,
                    "data": {
                        "text/plain": "'this is cool'"
                    },
                    "metadata": {}
                }
            ]
        },
        {
            "metadata": {},
            "cell_type": "code",
            "source": "d = c.replace(\"this\",\"that\")   #we replaced this with that string\nd",
            "execution_count": 36,
            "outputs": [
                {
                    "output_type": "execute_result",
                    "execution_count": 36,
                    "data": {
                        "text/plain": "'that is cool'"
                    },
                    "metadata": {}
                }
            ]
        },
        {
            "metadata": {},
            "cell_type": "code",
            "source": "d.find(\"is\")    #here we find substring in the folliwing string\n                #find is in that is cool",
            "execution_count": 38,
            "outputs": [
                {
                    "output_type": "execute_result",
                    "execution_count": 38,
                    "data": {
                        "text/plain": "5"
                    },
                    "metadata": {}
                }
            ]
        },
        {
            "metadata": {},
            "cell_type": "code",
            "source": "d.find(\"very\")    #if we cannot find substring in the following string it shows -ve value",
            "execution_count": 40,
            "outputs": [
                {
                    "output_type": "execute_result",
                    "execution_count": 40,
                    "data": {
                        "text/plain": "-1"
                    },
                    "metadata": {}
                }
            ]
        },
        {
            "metadata": {},
            "cell_type": "code",
            "source": "d.fond(\"is\")      #if we writw=e function with wrong spelling it shows error as fond is not a built in function. ",
            "execution_count": 41,
            "outputs": [
                {
                    "output_type": "error",
                    "ename": "AttributeError",
                    "evalue": "'str' object has no attribute 'fond'",
                    "traceback": [
                        "\u001b[0;31m---------------------------------------------------------------------------\u001b[0m",
                        "\u001b[0;31mAttributeError\u001b[0m                            Traceback (most recent call last)",
                        "\u001b[0;32m<ipython-input-41-8c541c8300ce>\u001b[0m in \u001b[0;36m<module>\u001b[0;34m\u001b[0m\n\u001b[0;32m----> 1\u001b[0;31m \u001b[0md\u001b[0m\u001b[0;34m.\u001b[0m\u001b[0mfond\u001b[0m\u001b[0;34m(\u001b[0m\u001b[0;34m\"is\"\u001b[0m\u001b[0;34m)\u001b[0m      \u001b[0;31m#if we writw=e function with wrong spelling it shows error as fond is not a built in function.\u001b[0m\u001b[0;34m\u001b[0m\u001b[0;34m\u001b[0m\u001b[0m\n\u001b[0m",
                        "\u001b[0;31mAttributeError\u001b[0m: 'str' object has no attribute 'fond'"
                    ]
                }
            ]
        },
        {
            "metadata": {},
            "cell_type": "markdown",
            "source": "# Summary\n\nIn this following string operations lab, we learned how to allocate srtings to variable,how we can add strings, finding the index of strings it starts from 0 and we have negative indexing also -1 is the last element in the string.we learned escape seuences for new line\\n tab\\t baclslash with\\\\ or put r infront of string.We learned about finding substrings replacing strings. Operations on strings like converting uppercase to lowercase and converting lowercase to uppercase."
        }
    ],
    "metadata": {
        "kernelspec": {
            "name": "python3",
            "display_name": "Python 3.8",
            "language": "python"
        },
        "language_info": {
            "name": "python",
            "version": "3.8.11",
            "mimetype": "text/x-python",
            "codemirror_mode": {
                "name": "ipython",
                "version": 3
            },
            "pygments_lexer": "ipython3",
            "nbconvert_exporter": "python",
            "file_extension": ".py"
        }
    },
    "nbformat": 4,
    "nbformat_minor": 1
}