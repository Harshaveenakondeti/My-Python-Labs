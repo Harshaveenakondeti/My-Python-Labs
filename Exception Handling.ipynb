{
    "cells": [
        {
            "metadata": {
                "collapsed": true
            },
            "cell_type": "markdown",
            "source": "# Exception Handling\n\nAn exception is an error that occurs during the execution of code. This error causes the code to raise an exception and if not prepared to handle it will halt the execution of the code.\n"
        },
        {
            "metadata": {},
            "cell_type": "code",
            "source": "#Zero Division error\n1/0",
            "execution_count": 1,
            "outputs": [
                {
                    "output_type": "error",
                    "ename": "ZeroDivisionError",
                    "evalue": "division by zero",
                    "traceback": [
                        "\u001b[0;31m---------------------------------------------------------------------------\u001b[0m",
                        "\u001b[0;31mZeroDivisionError\u001b[0m                         Traceback (most recent call last)",
                        "\u001b[0;32m<ipython-input-1-9e1622b385b6>\u001b[0m in \u001b[0;36m<module>\u001b[0;34m\u001b[0m\n\u001b[0;32m----> 1\u001b[0;31m \u001b[0;36m1\u001b[0m\u001b[0;34m/\u001b[0m\u001b[0;36m0\u001b[0m\u001b[0;34m\u001b[0m\u001b[0;34m\u001b[0m\u001b[0m\n\u001b[0m",
                        "\u001b[0;31mZeroDivisionError\u001b[0m: division by zero"
                    ]
                }
            ]
        },
        {
            "metadata": {},
            "cell_type": "code",
            "source": "# name error\ny = x +5   # we didn't define variable x will gives error",
            "execution_count": 2,
            "outputs": [
                {
                    "output_type": "error",
                    "ename": "NameError",
                    "evalue": "name 'x' is not defined",
                    "traceback": [
                        "\u001b[0;31m---------------------------------------------------------------------------\u001b[0m",
                        "\u001b[0;31mNameError\u001b[0m                                 Traceback (most recent call last)",
                        "\u001b[0;32m<ipython-input-2-ae1afbf72579>\u001b[0m in \u001b[0;36m<module>\u001b[0;34m\u001b[0m\n\u001b[0;32m----> 1\u001b[0;31m \u001b[0my\u001b[0m \u001b[0;34m=\u001b[0m \u001b[0mx\u001b[0m \u001b[0;34m+\u001b[0m\u001b[0;36m5\u001b[0m   \u001b[0;31m# we didn't define variable x will gives error\u001b[0m\u001b[0;34m\u001b[0m\u001b[0;34m\u001b[0m\u001b[0m\n\u001b[0m",
                        "\u001b[0;31mNameError\u001b[0m: name 'x' is not defined"
                    ]
                }
            ]
        },
        {
            "metadata": {},
            "cell_type": "code",
            "source": "# Index error\na = [1,2,3]\na[5]     # it have only indexes of 0,1,2 ,we are checking 5 so it will give error",
            "execution_count": 3,
            "outputs": [
                {
                    "output_type": "error",
                    "ename": "IndexError",
                    "evalue": "list index out of range",
                    "traceback": [
                        "\u001b[0;31m---------------------------------------------------------------------------\u001b[0m",
                        "\u001b[0;31mIndexError\u001b[0m                                Traceback (most recent call last)",
                        "\u001b[0;32m<ipython-input-3-480f527e80c5>\u001b[0m in \u001b[0;36m<module>\u001b[0;34m\u001b[0m\n\u001b[1;32m      1\u001b[0m \u001b[0;31m# Index error\u001b[0m\u001b[0;34m\u001b[0m\u001b[0;34m\u001b[0m\u001b[0;34m\u001b[0m\u001b[0m\n\u001b[1;32m      2\u001b[0m \u001b[0ma\u001b[0m \u001b[0;34m=\u001b[0m \u001b[0;34m[\u001b[0m\u001b[0;36m1\u001b[0m\u001b[0;34m,\u001b[0m\u001b[0;36m2\u001b[0m\u001b[0;34m,\u001b[0m\u001b[0;36m3\u001b[0m\u001b[0;34m]\u001b[0m\u001b[0;34m\u001b[0m\u001b[0;34m\u001b[0m\u001b[0m\n\u001b[0;32m----> 3\u001b[0;31m \u001b[0ma\u001b[0m\u001b[0;34m[\u001b[0m\u001b[0;36m5\u001b[0m\u001b[0;34m]\u001b[0m     \u001b[0;31m# it have only indexes of 0,1,2 ,we are checking 5 so it will give error\u001b[0m\u001b[0;34m\u001b[0m\u001b[0;34m\u001b[0m\u001b[0m\n\u001b[0m",
                        "\u001b[0;31mIndexError\u001b[0m: list index out of range"
                    ]
                }
            ]
        },
        {
            "metadata": {},
            "cell_type": "markdown",
            "source": "## Try Except\nA try except will allow you to execute code that might raise an exception and in the case of any exception or a specific one we can handle or catch the exception and execute specific code. This will allow us to continue the execution of our program even if there is an exception."
        },
        {
            "metadata": {},
            "cell_type": "code",
            "source": "# try except code\na = 1\n\ntry:\n    b = int(input(\"please enter a number to divide a\"))\n    a = a/b\n    print(\"success s = \",a )\nexcept:\n        print(\"there was an error\")",
            "execution_count": 1,
            "outputs": [
                {
                    "output_type": "stream",
                    "name": "stdout",
                    "text": "please enter a number to divide a\nthere was an error\n"
                }
            ]
        },
        {
            "metadata": {},
            "cell_type": "code",
            "source": "# try except more times\na = 1\ntry:\n    b = int(input(\"please enter a number to divide a\"))\n    a = a/b\n    print(\"success s = \",a )\nexcept ZeroDivisionError:\n    print(\"the number cant divided by 0\")\nexcept ValueError:\n    print(\"you did not provide a number\")\nexcept:\n        print(\"there was an error\")      # it will not produce output",
            "execution_count": 2,
            "outputs": [
                {
                    "output_type": "stream",
                    "name": "stdout",
                    "text": "please enter a number to divide a0\nthe number cant divided by 0\n"
                }
            ]
        },
        {
            "metadata": {},
            "cell_type": "code",
            "source": "# Try Except Else Finally\na = 1\ntry:\n    b = int(input(\"please enter a number to divide a\"))\n    a = a/b\nexcept ZeroDivisionError:\n    print(\"the number cant divided by 0\")\nexcept ValueError:\n    print(\"you did not provide a number\")\nexcept:\n    print(\"there was an error\")\nelse:\n    print(\"sucess a= \",a)\nfinally:\n    print(\"processing complete\")\n",
            "execution_count": 3,
            "outputs": [
                {
                    "output_type": "stream",
                    "name": "stdout",
                    "text": "please enter a number to divide a\nyou did not provide a number\nprocessing complete\n"
                }
            ]
        },
        {
            "metadata": {},
            "cell_type": "markdown",
            "source": "### Summary\nIn this lab we learned about Exception Handling. By using try except else code we can figure out exceptional errors in code."
        },
        {
            "metadata": {},
            "cell_type": "code",
            "source": "",
            "execution_count": null,
            "outputs": []
        }
    ],
    "metadata": {
        "kernelspec": {
            "name": "python3",
            "display_name": "Python 3.8",
            "language": "python"
        },
        "language_info": {
            "name": "python",
            "version": "3.8.11",
            "mimetype": "text/x-python",
            "codemirror_mode": {
                "name": "ipython",
                "version": 3
            },
            "pygments_lexer": "ipython3",
            "nbconvert_exporter": "python",
            "file_extension": ".py"
        }
    },
    "nbformat": 4,
    "nbformat_minor": 1
}