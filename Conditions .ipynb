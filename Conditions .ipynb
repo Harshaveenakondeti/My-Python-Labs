{
    "cells": [
        {
            "metadata": {
                "collapsed": true
            },
            "cell_type": "markdown",
            "source": "# Conditions\n\nHere we work with condition statemens in python, including operators, and branching.\n\n## Condition statements\n### Comparision operator\nIt will produce Boolean by compare some value or operand based on a condition.\nWe can use these operators :\n* equal: ==\n* not eqal: !=\n* greater than: >\n* less than: <\n* greater than or equal to: >=\n* less than or equal to: <=\n"
        },
        {
            "metadata": {},
            "cell_type": "code",
            "source": "# condition equal\n\na = 5\na == 4   #result will be false",
            "execution_count": 6,
            "outputs": [
                {
                    "output_type": "execute_result",
                    "execution_count": 6,
                    "data": {
                        "text/plain": "False"
                    },
                    "metadata": {}
                }
            ]
        },
        {
            "metadata": {},
            "cell_type": "code",
            "source": "# greater then sign\n\nb = 3\nb > 6   #result become false",
            "execution_count": 7,
            "outputs": [
                {
                    "output_type": "execute_result",
                    "execution_count": 7,
                    "data": {
                        "text/plain": "False"
                    },
                    "metadata": {}
                }
            ]
        },
        {
            "metadata": {},
            "cell_type": "code",
            "source": "b = 3\nb  >1   # result becomes true",
            "execution_count": 8,
            "outputs": [
                {
                    "output_type": "execute_result",
                    "execution_count": 8,
                    "data": {
                        "text/plain": "True"
                    },
                    "metadata": {}
                }
            ]
        },
        {
            "metadata": {},
            "cell_type": "code",
            "source": "#Inequality sign\nc = 2\nc != 2   # result is false",
            "execution_count": 9,
            "outputs": [
                {
                    "output_type": "execute_result",
                    "execution_count": 9,
                    "data": {
                        "text/plain": "False"
                    },
                    "metadata": {}
                }
            ]
        },
        {
            "metadata": {},
            "cell_type": "code",
            "source": "c = 4\nc != 3   # result is true",
            "execution_count": 10,
            "outputs": [
                {
                    "output_type": "execute_result",
                    "execution_count": 10,
                    "data": {
                        "text/plain": "True"
                    },
                    "metadata": {}
                }
            ]
        },
        {
            "metadata": {},
            "cell_type": "code",
            "source": "# equalsity sign to compare strings\n\"harsha\" ==\"veena\"  # result is false",
            "execution_count": 11,
            "outputs": [
                {
                    "output_type": "execute_result",
                    "execution_count": 11,
                    "data": {
                        "text/plain": "False"
                    },
                    "metadata": {}
                }
            ]
        },
        {
            "metadata": {},
            "cell_type": "code",
            "source": "# use inequality to compare strings\n\"harsha\" != \"veena\"    # result is true",
            "execution_count": 12,
            "outputs": [
                {
                    "output_type": "execute_result",
                    "execution_count": 12,
                    "data": {
                        "text/plain": "True"
                    },
                    "metadata": {}
                }
            ]
        },
        {
            "metadata": {},
            "cell_type": "markdown",
            "source": "## Branching\n\nBranching allows us to run different statements for different inputs."
        },
        {
            "metadata": {},
            "cell_type": "code",
            "source": "# if statement\n\nage = 16\nif age > 18:\n      print(\"you are adult\") # if condition true this will print\nprint(\"you can enjoy\")             # if condition false this will print",
            "execution_count": 24,
            "outputs": [
                {
                    "output_type": "stream",
                    "text": "you can enjoy\n",
                    "name": "stdout"
                }
            ]
        },
        {
            "metadata": {},
            "cell_type": "code",
            "source": "# else stateent \n\nage = 17\nif age > 18:\n      print(\"you are adult\") # if condition true this will print\nelse:                        # here special condition \n    print(\"wait for some time\")\nprint(\"you can enjoy\")             # if condition false this will print\n",
            "execution_count": 26,
            "outputs": [
                {
                    "output_type": "stream",
                    "text": "wait for some time\nyou can enjoy\n",
                    "name": "stdout"
                }
            ]
        },
        {
            "metadata": {},
            "cell_type": "code",
            "source": "#Elif statement\n\nage = 19\nif age > 18:\n    print(\"you are adult\")\nelif age == 18:\n    print(\"you are almost there\")\nelse:\n    print(\"wait for some time\")\nprint(\"you can enjoy\")",
            "execution_count": 29,
            "outputs": [
                {
                    "output_type": "stream",
                    "text": "wait for some time\nyou can enjoy\n",
                    "name": "stdout"
                }
            ]
        },
        {
            "metadata": {},
            "cell_type": "markdown",
            "source": "in the above conditions we can conclude, age is above 18 means they are adults ,so if condition will become true and print you are adult. If age is 18 years then elif condition become true and it will print you are almost there and if ahe is less than 18 then else condition turns true and it will print you are teenager. and you can enjoy is out of the branch and it will print for any condition happens."
        },
        {
            "metadata": {},
            "cell_type": "markdown",
            "source": "## Logical operators\n\nIf we want to check more conditions at once then we use logic operators.\nIt allows you to combine or modify conditions.\n* and\n* or\n* not\n\nThe *and* statement is only **True** when both conditions are true.\nThe *or* statements is True if one condition, or both are **True**.\nThe *not* statement outputs the **opposite** truth value."
        },
        {
            "metadata": {},
            "cell_type": "code",
            "source": "# and statement example\n\na = 11\nif a > 2 and a < 10:   # to execute both conditions should satisfy\n    print(\"the statement is true\")\nprint(\"not valied\")",
            "execution_count": 22,
            "outputs": [
                {
                    "output_type": "stream",
                    "text": "not valied\n",
                    "name": "stdout"
                }
            ]
        },
        {
            "metadata": {},
            "cell_type": "code",
            "source": "# or statement\n\na = 11\nif a == 5*2 or a > 11:  # to execute, any one condition satisfy also ok\n    print(\" or condition executes\")\nprint(\" both conditions not satisy\")",
            "execution_count": 21,
            "outputs": [
                {
                    "output_type": "stream",
                    "text": " both conditions not satisy\n",
                    "name": "stdout"
                }
            ]
        },
        {
            "metadata": {},
            "cell_type": "code",
            "source": "# not condition\n\na = 11\nif not(a ==11):  # not statement check if the statement is false\n    print(\"not condition satisfy\")",
            "execution_count": 20,
            "outputs": []
        },
        {
            "metadata": {},
            "cell_type": "markdown",
            "source": "## Summary\n\nIn this lab we learned about conditions. logical operators,if statements,elif statements, else statements."
        }
    ],
    "metadata": {
        "kernelspec": {
            "name": "python3",
            "display_name": "Python 3.8",
            "language": "python"
        },
        "language_info": {
            "name": "python",
            "version": "3.8.11",
            "mimetype": "text/x-python",
            "codemirror_mode": {
                "name": "ipython",
                "version": 3
            },
            "pygments_lexer": "ipython3",
            "nbconvert_exporter": "python",
            "file_extension": ".py"
        }
    },
    "nbformat": 4,
    "nbformat_minor": 1
}