{
    "cells": [
        {
            "metadata": {
                "collapsed": true
            },
            "cell_type": "markdown",
            "source": "# Numpy\n## Two Dimensional Array\n* Create a 2D Numpy Array\n* Accessing different elements of a Numpy Array\n* Basic Operations\n# Create a 2D Array"
        },
        {
            "metadata": {},
            "cell_type": "code",
            "source": "# import libraries\nimport numpy as np\nimport matplotlib.pyplot as plt\n",
            "execution_count": 2,
            "outputs": []
        },
        {
            "metadata": {
                "collapsed": true
            },
            "cell_type": "code",
            "source": "# create a list\na = [[11,12,13],[21,22,23],[31,32,33]]\nprint(\"list: \", a)\n# cast list into numpy array\n# every element is same type\nA = np.array(a)\nprint(\"array: \",A)\nprint(\"numpy array dimensions: \",A.ndim)\nprint(\"numpy array shape: \", A.shape)\nprint(\"numpy array size: \", A.size)\n# Acessing elements\nprint(\"element of second row and third column: \",A[1][2])\nprint(\"element of first row first column: \",A[0][0])\n# Slicing\nprint(\" element on the first row and first and second columns: \", A[0][0:2])\nprint(\"first two rows of 3rd column: \", A[0:2,2])\n",
            "execution_count": 5,
            "outputs": [
                {
                    "output_type": "stream",
                    "text": "list:  [[11, 12, 13], [21, 22, 23], [31, 32, 33]]\narray:  [[11 12 13]\n [21 22 23]\n [31 32 33]]\nnumpy array dimensions:  2\nnumpy array shape:  (3, 3)\nnumpy array size:  9\nelement of second row and third column:  23\nelement of first row first column:  11\n element on the first row and first and second columns:  [11 12]\nfirst two rows of 3rd column:  [13 23]\n",
                    "name": "stdout"
                }
            ]
        },
        {
            "metadata": {},
            "cell_type": "markdown",
            "source": "# Basic Operations\n* Matrix addition\n* multiplication by scalar\n* dot product\n* matrix multiplication\n* Transposed matrix"
        },
        {
            "metadata": {},
            "cell_type": "code",
            "source": "# Create numpy arrays\nX = np.array([[1,0],[0,1]])\nY = np.array([[2,1],[1,2]])\nprint(\"X\",X)\nprint(\"Y\",Y)",
            "execution_count": 8,
            "outputs": [
                {
                    "output_type": "stream",
                    "text": "X [[1 0]\n [0 1]]\nY [[2 1]\n [1 2]]\n",
                    "name": "stdout"
                }
            ]
        },
        {
            "metadata": {},
            "cell_type": "code",
            "source": "Z= X+Y  # matrix addition\nZ",
            "execution_count": 9,
            "outputs": [
                {
                    "output_type": "execute_result",
                    "execution_count": 9,
                    "data": {
                        "text/plain": "array([[3, 1],\n       [1, 3]])"
                    },
                    "metadata": {}
                }
            ]
        },
        {
            "metadata": {},
            "cell_type": "code",
            "source": "Z= 2*X   # multiplication with scalar\nZ",
            "execution_count": 10,
            "outputs": [
                {
                    "output_type": "execute_result",
                    "execution_count": 10,
                    "data": {
                        "text/plain": "array([[2, 0],\n       [0, 2]])"
                    },
                    "metadata": {}
                }
            ]
        },
        {
            "metadata": {},
            "cell_type": "code",
            "source": "Z= np.dot(X,Y)   # dot product\nZ",
            "execution_count": 12,
            "outputs": [
                {
                    "output_type": "execute_result",
                    "execution_count": 12,
                    "data": {
                        "text/plain": "array([[2, 1],\n       [1, 2]])"
                    },
                    "metadata": {}
                }
            ]
        },
        {
            "metadata": {},
            "cell_type": "code",
            "source": "Z = X*Y   # multiply X with Y\nZ",
            "execution_count": 14,
            "outputs": [
                {
                    "output_type": "execute_result",
                    "execution_count": 14,
                    "data": {
                        "text/plain": "array([[2, 0],\n       [0, 2]])"
                    },
                    "metadata": {}
                }
            ]
        },
        {
            "metadata": {},
            "cell_type": "code",
            "source": "A = np.array([[0,1,1],[1,0,1]])\nB = np.array([[1,1],[1,1],[-1,1]])\nZ= np.dot(A,B)   # To multiply arrays\nZ",
            "execution_count": 15,
            "outputs": [
                {
                    "output_type": "execute_result",
                    "execution_count": 15,
                    "data": {
                        "text/plain": "array([[0, 2],\n       [0, 2]])"
                    },
                    "metadata": {}
                }
            ]
        },
        {
            "metadata": {},
            "cell_type": "code",
            "source": "np.sin(Z)  # calculate sine of Z",
            "execution_count": 16,
            "outputs": [
                {
                    "output_type": "execute_result",
                    "execution_count": 16,
                    "data": {
                        "text/plain": "array([[0.        , 0.90929743],\n       [0.        , 0.90929743]])"
                    },
                    "metadata": {}
                }
            ]
        },
        {
            "metadata": {},
            "cell_type": "code",
            "source": "B.T    # transposed of matrix B",
            "execution_count": 17,
            "outputs": [
                {
                    "output_type": "execute_result",
                    "execution_count": 17,
                    "data": {
                        "text/plain": "array([[ 1,  1, -1],\n       [ 1,  1,  1]])"
                    },
                    "metadata": {}
                }
            ]
        },
        {
            "metadata": {},
            "cell_type": "markdown",
            "source": "# Summary\nIn this lab we have learned about 2d array of numpy. we did matrix addition,multiplication.transposed,dot product."
        }
    ],
    "metadata": {
        "kernelspec": {
            "name": "python3",
            "display_name": "Python 3.8",
            "language": "python"
        },
        "language_info": {
            "name": "python",
            "version": "3.8.11",
            "mimetype": "text/x-python",
            "codemirror_mode": {
                "name": "ipython",
                "version": 3
            },
            "pygments_lexer": "ipython3",
            "nbconvert_exporter": "python",
            "file_extension": ".py"
        }
    },
    "nbformat": 4,
    "nbformat_minor": 1
}