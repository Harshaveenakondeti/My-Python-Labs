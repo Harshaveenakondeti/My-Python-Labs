{
    "cells": [
        {
            "metadata": {
                "collapsed": true
            },
            "cell_type": "markdown",
            "source": "# Write and Save files\n* Writing files\n* Appending files\n* additional file modes\n* copy a file\n"
        },
        {
            "metadata": {},
            "cell_type": "code",
            "source": "exmp2 = '/resources/data/Example2.txt'\nwith open('exmp2', 'w') as writefile:     #open file as writeable file and wrote one sentence\n    writefile.write(\"This is line A\")",
            "execution_count": 55,
            "outputs": []
        },
        {
            "metadata": {},
            "cell_type": "code",
            "source": "with open('exmp2','r')as testwritefile:\n     line1=  testwritefile.read()\nprint(line1)",
            "execution_count": 56,
            "outputs": [
                {
                    "output_type": "stream",
                    "text": "This is line A\n",
                    "name": "stdout"
                }
            ]
        },
        {
            "metadata": {},
            "cell_type": "code",
            "source": "# write multiple lines\nwith open('exmp2','w')as writefile:\n    writefile.write(\"this is b\\n\")\n    writefile.write('a\\n,''b\\n')\n    print()",
            "execution_count": 57,
            "outputs": [
                {
                    "output_type": "stream",
                    "text": "\n",
                    "name": "stdout"
                }
            ]
        },
        {
            "metadata": {},
            "cell_type": "code",
            "source": "with open('exmp2','r')as testwritefile:    #checking more lines\n     line1=  testwritefile.read()\n     print(line1)",
            "execution_count": 58,
            "outputs": [
                {
                    "output_type": "stream",
                    "text": "this is b\na\n,b\n\n",
                    "name": "stdout"
                }
            ]
        },
        {
            "metadata": {},
            "cell_type": "code",
            "source": "# write line to file\nlines = [\"thia is A\\n\",\"this is B\\n\"]\nlines",
            "execution_count": 59,
            "outputs": [
                {
                    "output_type": "execute_result",
                    "execution_count": 59,
                    "data": {
                        "text/plain": "['thia is A\\n', 'this is B\\n']"
                    },
                    "metadata": {}
                }
            ]
        },
        {
            "metadata": {},
            "cell_type": "code",
            "source": " with open('Example2.txt',\"w\") as writefile:     # it will overwrites everyting in that file as mode is w\n    for line in lines:\n        print(line)\n        writefile.write(line)",
            "execution_count": 60,
            "outputs": [
                {
                    "output_type": "stream",
                    "text": "thia is A\n\nthis is B\n\n",
                    "name": "stdout"
                }
            ]
        },
        {
            "metadata": {},
            "cell_type": "code",
            "source": "with open('Example2.txt','r')as testwritefile:\n    print(testwritefile.read())",
            "execution_count": 61,
            "outputs": [
                {
                    "output_type": "stream",
                    "text": "thia is A\nthis is B\n\n",
                    "name": "stdout"
                }
            ]
        },
        {
            "metadata": {},
            "cell_type": "code",
            "source": "with open('Example2.txt','w')as writefile:\n        writefile.write(\"overwritten\")       #it remove above lines and display overwritten\nwith open('Example2.txt','r')as testwritefile:\n    print(testwritefile.read())",
            "execution_count": 62,
            "outputs": [
                {
                    "output_type": "stream",
                    "text": "overwritten\n",
                    "name": "stdout"
                }
            ]
        },
        {
            "metadata": {},
            "cell_type": "markdown",
            "source": "# Appending \nWe can write to files without losing any of the existing data as follows by setting the mode argument to append(a)."
        },
        {
            "metadata": {},
            "cell_type": "code",
            "source": "with open('Example2.txt','a')as testwritefile:\n    testwritefile.write(\"3\\n\")\n    testwritefile.write(\"2\\n\")\n    testwritefile.write(\"1\\n\")#it didm't remove above lines and display overwritten and also following lines.\n",
            "execution_count": 63,
            "outputs": []
        },
        {
            "metadata": {},
            "cell_type": "code",
            "source": "with open('Example2.txt','r')as testwritefile:\n    print(testwritefile.read())",
            "execution_count": 64,
            "outputs": [
                {
                    "output_type": "stream",
                    "text": "overwritten3\n2\n1\n\n",
                    "name": "stdout"
                }
            ]
        },
        {
            "metadata": {},
            "cell_type": "markdown",
            "source": "# Additional modes\nIt's fairly ineffecient to open the file in a or w and then reopening it in r to read any lines. Luckily we can access the file in the following modes:\n\n* r+ : Reading and writing. Cannot truncate the file.\n* w+ : Writing and reading. Truncates the file.\n* a+ : Appending and Reading. Creates a new file, if none exists."
        },
        {
            "metadata": {},
            "cell_type": "code",
            "source": "with open('Example2.txt','a+')as writefile:\n        writefile.write(\"this is e\")       \nwith open('Example2.txt','r')as testwritefile:\n     testwritefile.read()   # no error and no output",
            "execution_count": 65,
            "outputs": []
        },
        {
            "metadata": {},
            "cell_type": "markdown",
            "source": "It is often very useful to know where the 'cursor' is in a file and be able to control it. The following methods allow us to do precisely this -\n\n* .tell() - returns the current position in bytes\n* .seek(offset,from) - changes the position by 'offset' bytes with respect to 'from'. From can take the value of 0,1,2 corresponding to beginning, relative to current position and end"
        },
        {
            "metadata": {},
            "cell_type": "code",
            "source": "with open('Example2.txt', 'a+') as testwritefile:\n    print(\"Initial Location: {}\".format(testwritefile.tell()))\n    \n    data = testwritefile.read()\n    if (not data):  #empty strings return false in python\n            print('Read nothing') \n    else: \n            print(testwritefile.read())\n            \n    testwritefile.seek(0,0) # move 0 bytes from beginning.\n    \n    print(\"\\nNew Location : {}\".format(testwritefile.tell()))\n    data = testwritefile.read()\n    if (not data): \n            print('Read nothing') \n    else: \n            print(data)\n    \n    print(\"Location after read: {}\".format(testwritefile.tell()) )",
            "execution_count": 66,
            "outputs": [
                {
                    "output_type": "stream",
                    "text": "Initial Location: 26\nRead nothing\n\nNew Location : 0\noverwritten3\n2\n1\nthis is e\nLocation after read: 26\n",
                    "name": "stdout"
                }
            ]
        },
        {
            "metadata": {},
            "cell_type": "code",
            "source": "with open('Example2.txt','r+')as testwritefile:\n    data = testwritefile.readlines()\n    testwritefile.seek(0,0)   # go to begining\n    testwritefile.write(\"a\"+\"b\\n\")\n    testwritefile.write(\"b\"+\"c\\n\")\n    testwritefile.write(\"finish\")\n    testwritefile.truncate()  # once it executed it deletes follows data\n    testwritefile.seek(0,0)\n    print(data)\n    print(testwritefile.read())",
            "execution_count": 67,
            "outputs": [
                {
                    "output_type": "stream",
                    "text": "['overwritten3\\n', '2\\n', '1\\n', 'this is e']\nab\nbc\nfinish\n",
                    "name": "stdout"
                }
            ]
        },
        {
            "metadata": {},
            "cell_type": "markdown",
            "source": "# Copy of file\n\n"
        },
        {
            "metadata": {},
            "cell_type": "code",
            "source": "# copying from one file to onother\nwith open ('Example2.txt','r')as readfile:\n    with open('Example3.txt','w')as writefile:\n        for line in readfile:\n            writefile.write(line)",
            "execution_count": 69,
            "outputs": []
        },
        {
            "metadata": {},
            "cell_type": "code",
            "source": "# to verify that file is copied or not\nwith open('Example3.txt','r')as testwritefile:\n    print(testwritefile.read())\n    \n    \n    ",
            "execution_count": 70,
            "outputs": [
                {
                    "output_type": "stream",
                    "text": "ab\nbc\nfinish\n",
                    "name": "stdout"
                }
            ]
        },
        {
            "metadata": {},
            "cell_type": "markdown",
            "source": "# Summary\nIn this lab we have learned and write in to files,adding to files,copying one file to onother file."
        }
    ],
    "metadata": {
        "kernelspec": {
            "name": "python3",
            "display_name": "Python 3.8",
            "language": "python"
        },
        "language_info": {
            "name": "python",
            "version": "3.8.11",
            "mimetype": "text/x-python",
            "codemirror_mode": {
                "name": "ipython",
                "version": 3
            },
            "pygments_lexer": "ipython3",
            "nbconvert_exporter": "python",
            "file_extension": ".py"
        }
    },
    "nbformat": 4,
    "nbformat_minor": 1
}