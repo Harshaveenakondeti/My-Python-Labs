{
    "cells": [
        {
            "metadata": {
                "collapsed": true
            },
            "cell_type": "markdown",
            "source": "# Lists in Python\n\n\n## Objectives\n* Perform list operations in Python,including indexing, list manipulation and copy/clone list.\n\n\n### Indexing\n A list is a sequenced collection of different objects such as integers, strrings, and even other lists as well.The address of each element withim a list is called an index.Indexing starts from 0. We can have negative indexing for reverse order of elements -1 index for last element\n"
        },
        {
            "metadata": {},
            "cell_type": "code",
            "source": "x = ['harsha',1,2.3,[1,2]]     #list created with[] and we can have list inside list",
            "execution_count": 1,
            "outputs": []
        },
        {
            "metadata": {},
            "cell_type": "code",
            "source": "x[0]     #[0] index refers first element",
            "execution_count": 2,
            "outputs": [
                {
                    "output_type": "execute_result",
                    "execution_count": 2,
                    "data": {
                        "text/plain": "'harsha'"
                    },
                    "metadata": {}
                }
            ]
        },
        {
            "metadata": {},
            "cell_type": "code",
            "source": "x[-1]     #[-1] index refers last element",
            "execution_count": 3,
            "outputs": [
                {
                    "output_type": "execute_result",
                    "execution_count": 3,
                    "data": {
                        "text/plain": "[1, 2]"
                    },
                    "metadata": {}
                }
            ]
        },
        {
            "metadata": {},
            "cell_type": "markdown",
            "source": "### List Operations\n \n #### Slicing\n  if we want only few elements we use this operation"
        },
        {
            "metadata": {},
            "cell_type": "code",
            "source": "x[1:3]    #we will get elemnts from index 1 to index 3",
            "execution_count": 5,
            "outputs": [
                {
                    "output_type": "execute_result",
                    "execution_count": 5,
                    "data": {
                        "text/plain": "[1, 2.3]"
                    },
                    "metadata": {}
                }
            ]
        },
        {
            "metadata": {},
            "cell_type": "markdown",
            "source": "#### Extend\n To add elements to the list we use extend "
        },
        {
            "metadata": {},
            "cell_type": "code",
            "source": "x.extend([\"veena\",10])   # we added veena,10 elents to the list x \nx                        ",
            "execution_count": 7,
            "outputs": [
                {
                    "output_type": "execute_result",
                    "execution_count": 7,
                    "data": {
                        "text/plain": "['harsha', 1, 2.3, [1, 2], 'veena', 10, 'veena', 10]"
                    },
                    "metadata": {}
                }
            ]
        },
        {
            "metadata": {},
            "cell_type": "markdown",
            "source": "#### append\nTo add one element we can use append\n"
        },
        {
            "metadata": {},
            "cell_type": "code",
            "source": "x = [\"hi\",1,2.3,[1,2]]\nx.append([3,4])         # here 3,4,added as one element in the list\nx",
            "execution_count": 8,
            "outputs": [
                {
                    "output_type": "execute_result",
                    "execution_count": 8,
                    "data": {
                        "text/plain": "['hi', 1, 2.3, [1, 2], [3, 4]]"
                    },
                    "metadata": {}
                }
            ]
        },
        {
            "metadata": {},
            "cell_type": "markdown",
            "source": "### List operations\n\n#### Change element based on index\n"
        },
        {
            "metadata": {},
            "cell_type": "code",
            "source": "x = [\"hi\",1,2.3,[1,2]]\nprint(\"before change\",x[0])\nx[0]=\"hello\"   # assigning new  element\nprint(\"after change\",x[0])",
            "execution_count": 9,
            "outputs": [
                {
                    "output_type": "stream",
                    "text": "before change hi\nafter change hello\n",
                    "name": "stdout"
                }
            ]
        },
        {
            "metadata": {},
            "cell_type": "markdown",
            "source": "#### Deleeting an element in list"
        },
        {
            "metadata": {},
            "cell_type": "code",
            "source": "x = [\"hi\",1,2.3,[1,2]]\ndel(x[0])     # deleting first element\nx",
            "execution_count": 10,
            "outputs": [
                {
                    "output_type": "execute_result",
                    "execution_count": 10,
                    "data": {
                        "text/plain": "[1, 2.3, [1, 2]]"
                    },
                    "metadata": {}
                }
            ]
        },
        {
            "metadata": {},
            "cell_type": "markdown",
            "source": "#### Convert string into list\n We can use the split function to seperate strings on a specific charecter which we call a *delimeter* or using space between strings"
        },
        {
            "metadata": {},
            "cell_type": "code",
            "source": "\"harsha veena\".split() \n#it splits using space between strings",
            "execution_count": 14,
            "outputs": [
                {
                    "output_type": "execute_result",
                    "execution_count": 14,
                    "data": {
                        "text/plain": "['harsha', 'veena']"
                    },
                    "metadata": {}
                }
            ]
        },
        {
            "metadata": {},
            "cell_type": "code",
            "source": "'a,b,c,d'.split()   # here it splits using(,) comma",
            "execution_count": 15,
            "outputs": [
                {
                    "output_type": "execute_result",
                    "execution_count": 15,
                    "data": {
                        "text/plain": "['a,b,c,d']"
                    },
                    "metadata": {}
                }
            ]
        },
        {
            "metadata": {},
            "cell_type": "markdown",
            "source": "### Copy and clone list\n\n#### Copy\nIf two variables are reflecting same list or multiple names referred to same object is **Aliasing** or **copy** of lists\nIn this if we change one element in one list then other list will also change.\n"
        },
        {
            "metadata": {},
            "cell_type": "code",
            "source": "a = ['apple',1,2]\nb = a\nprint(a)   # here a and b both lists are same and copy to each other\nprint(b)  # b is a copy of a",
            "execution_count": 16,
            "outputs": [
                {
                    "output_type": "stream",
                    "text": "['apple', 1, 2]\n['apple', 1, 2]\n",
                    "name": "stdout"
                }
            ]
        },
        {
            "metadata": {},
            "cell_type": "code",
            "source": "a[0] = 'banana'  #assinging new element to a list\nprint(a)\nprint(b)   # here apple was replaced by banana in both lists",
            "execution_count": 17,
            "outputs": [
                {
                    "output_type": "stream",
                    "text": "['banana', 1, 2]\n['banana', 1, 2]\n",
                    "name": "stdout"
                }
            ]
        },
        {
            "metadata": {},
            "cell_type": "markdown",
            "source": "### Clone\n we can clone by value in list. if we have list a and we can clone it and named as list b .now b is a clone of b. if we change element in list a then list b won't be affected."
        },
        {
            "metadata": {},
            "cell_type": "code",
            "source": "a = ['hi',1,2]\nb = a[:]   # b is clone of a\nprint(a)\nprint(b)",
            "execution_count": 18,
            "outputs": [
                {
                    "output_type": "stream",
                    "text": "['hi', 1, 2]\n['hi', 1, 2]\n",
                    "name": "stdout"
                }
            ]
        },
        {
            "metadata": {},
            "cell_type": "code",
            "source": "a[0] = 'how r u'\nprint(a)\nprint(b)  # here b list didn't change\n",
            "execution_count": 19,
            "outputs": [
                {
                    "output_type": "stream",
                    "text": "['how r u', 1, 2]\n['hi', 1, 2]\n",
                    "name": "stdout"
                }
            ]
        },
        {
            "metadata": {},
            "cell_type": "markdown",
            "source": "### Adding lists\n We can add or concanetate lists"
        },
        {
            "metadata": {},
            "cell_type": "code",
            "source": "a = ['hi',1]\nb = ['hello',[1,2],8.9]\na + b      # we can combine lists",
            "execution_count": 20,
            "outputs": [
                {
                    "output_type": "execute_result",
                    "execution_count": 20,
                    "data": {
                        "text/plain": "['hi', 1, 'hello', [1, 2], 8.9]"
                    },
                    "metadata": {}
                }
            ]
        },
        {
            "metadata": {},
            "cell_type": "markdown",
            "source": "### Summary\n  In this lab we learned about lists operations,deleting an element in list, changing element in list,copy of lists, clone of list,extend of list, adding one element to list using append, adding list"
        },
        {
            "metadata": {},
            "cell_type": "code",
            "source": "",
            "execution_count": null,
            "outputs": []
        }
    ],
    "metadata": {
        "kernelspec": {
            "name": "python3",
            "display_name": "Python 3.8",
            "language": "python"
        },
        "language_info": {
            "name": "python",
            "version": "3.8.11",
            "mimetype": "text/x-python",
            "codemirror_mode": {
                "name": "ipython",
                "version": 3
            },
            "pygments_lexer": "ipython3",
            "nbconvert_exporter": "python",
            "file_extension": ".py"
        }
    },
    "nbformat": 4,
    "nbformat_minor": 1
}