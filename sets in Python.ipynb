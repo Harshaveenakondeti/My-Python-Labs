{
    "cells": [
        {
            "metadata": {
                "collapsed": true
            },
            "cell_type": "markdown",
            "source": "# Sets in Python\n\n* Sets are type of collection\n* this means that like lists and tuples you can input different python types.\n* Unlike lists and tuples they are unordered\n* this means sets do not record element position\n* sets only have unique elements\n* sets are denoted by{}\n* there are no duplicate values in set\n* we can convert list to set by tyoecasting\n"
        },
        {
            "metadata": {},
            "cell_type": "code",
            "source": "# create a set\nset1={\"a\",\"b\",\"c\",\"a\"}\nset1",
            "execution_count": 1,
            "outputs": [
                {
                    "output_type": "execute_result",
                    "execution_count": 1,
                    "data": {
                        "text/plain": "{'a', 'b', 'c'}"
                    },
                    "metadata": {}
                }
            ]
        },
        {
            "metadata": {},
            "cell_type": "markdown",
            "source": "## Typecasting"
        },
        {
            "metadata": {},
            "cell_type": "code",
            "source": "# convert list into set\nlist =[\"hello\",1,2,3]\nx= set(list)\nx",
            "execution_count": 2,
            "outputs": [
                {
                    "output_type": "execute_result",
                    "execution_count": 2,
                    "data": {
                        "text/plain": "{1, 2, 3, 'hello'}"
                    },
                    "metadata": {}
                }
            ]
        },
        {
            "metadata": {},
            "cell_type": "markdown",
            "source": "## Set operations"
        },
        {
            "metadata": {},
            "cell_type": "code",
            "source": "y = set([\"hi\",4,5,6,4])\ny",
            "execution_count": 3,
            "outputs": [
                {
                    "output_type": "execute_result",
                    "execution_count": 3,
                    "data": {
                        "text/plain": "{4, 5, 6, 'hi'}"
                    },
                    "metadata": {}
                }
            ]
        },
        {
            "metadata": {},
            "cell_type": "code",
            "source": "# add element to set\ny.add(\"am\")\ny",
            "execution_count": 4,
            "outputs": [
                {
                    "output_type": "execute_result",
                    "execution_count": 4,
                    "data": {
                        "text/plain": "{4, 5, 6, 'am', 'hi'}"
                    },
                    "metadata": {}
                }
            ]
        },
        {
            "metadata": {},
            "cell_type": "code",
            "source": "# try to add duplicate element twice\ny.add(\"am\")\ny",
            "execution_count": 5,
            "outputs": [
                {
                    "output_type": "execute_result",
                    "execution_count": 5,
                    "data": {
                        "text/plain": "{4, 5, 6, 'am', 'hi'}"
                    },
                    "metadata": {}
                }
            ]
        },
        {
            "metadata": {},
            "cell_type": "code",
            "source": "# remove the element from set\ny.remove(\"am\")\ny",
            "execution_count": 6,
            "outputs": [
                {
                    "output_type": "execute_result",
                    "execution_count": 6,
                    "data": {
                        "text/plain": "{4, 5, 6, 'hi'}"
                    },
                    "metadata": {}
                }
            ]
        },
        {
            "metadata": {},
            "cell_type": "code",
            "source": "# verify if the element in the set\n\"hi\" in y",
            "execution_count": 7,
            "outputs": [
                {
                    "output_type": "execute_result",
                    "execution_count": 7,
                    "data": {
                        "text/plain": "True"
                    },
                    "metadata": {}
                }
            ]
        },
        {
            "metadata": {},
            "cell_type": "markdown",
            "source": "## set logic operations\n we can check the difference between sets, as well as the symmetric difference,intersection and union"
        },
        {
            "metadata": {},
            "cell_type": "code",
            "source": "# sample sets\nset1 = {\"action\",\"horror\",\"comedy\"}\nset2 = set([10.20,30])\n# print two sets\nset1, set2",
            "execution_count": 8,
            "outputs": [
                {
                    "output_type": "execute_result",
                    "execution_count": 8,
                    "data": {
                        "text/plain": "({'action', 'comedy', 'horror'}, {10.2, 30})"
                    },
                    "metadata": {}
                }
            ]
        },
        {
            "metadata": {},
            "cell_type": "markdown",
            "source": "### intersection\nyou canfind the intersect of two sets as follow using &\n"
        },
        {
            "metadata": {},
            "cell_type": "code",
            "source": "# find the intersection\nset = set1 & set2 # here there are no common values in both sets\nset",
            "execution_count": 9,
            "outputs": [
                {
                    "output_type": "execute_result",
                    "execution_count": 9,
                    "data": {
                        "text/plain": "set()"
                    },
                    "metadata": {}
                }
            ]
        },
        {
            "metadata": {},
            "cell_type": "markdown",
            "source": "### Difference\nwe can find the all elements that are only contained in 1 set using difference method."
        },
        {
            "metadata": {},
            "cell_type": "code",
            "source": "set1.difference(set2)  #you only need to consider elements in set1, all the elements in set2 including intersection are not included.\n",
            "execution_count": 10,
            "outputs": [
                {
                    "output_type": "execute_result",
                    "execution_count": 10,
                    "data": {
                        "text/plain": "{'action', 'comedy', 'horror'}"
                    },
                    "metadata": {}
                }
            ]
        },
        {
            "metadata": {},
            "cell_type": "code",
            "source": "set2.difference(set1)   # the elements in set2 but not in set 1",
            "execution_count": 11,
            "outputs": [
                {
                    "output_type": "execute_result",
                    "execution_count": 11,
                    "data": {
                        "text/plain": "{10.2, 30}"
                    },
                    "metadata": {}
                }
            ]
        },
        {
            "metadata": {},
            "cell_type": "markdown",
            "source": "### Union\nwe can find union of sets "
        },
        {
            "metadata": {},
            "cell_type": "code",
            "source": "set1.union(set2)",
            "execution_count": 12,
            "outputs": [
                {
                    "output_type": "execute_result",
                    "execution_count": 12,
                    "data": {
                        "text/plain": "{10.2, 30, 'action', 'comedy', 'horror'}"
                    },
                    "metadata": {}
                }
            ]
        },
        {
            "metadata": {},
            "cell_type": "code",
            "source": "# check if superset\nset1.issuperset(set2)\n",
            "execution_count": 15,
            "outputs": [
                {
                    "output_type": "execute_result",
                    "execution_count": 15,
                    "data": {
                        "text/plain": "False"
                    },
                    "metadata": {}
                }
            ]
        },
        {
            "metadata": {},
            "cell_type": "code",
            "source": "# check if subset\nset2.issubset(set1)",
            "execution_count": 16,
            "outputs": [
                {
                    "output_type": "execute_result",
                    "execution_count": 16,
                    "data": {
                        "text/plain": "False"
                    },
                    "metadata": {}
                }
            ]
        },
        {
            "metadata": {},
            "cell_type": "code",
            "source": "{\"comedy\",\"horror\"}.issubset(set1)  # where .issubset will become true",
            "execution_count": 21,
            "outputs": [
                {
                    "output_type": "execute_result",
                    "execution_count": 21,
                    "data": {
                        "text/plain": "True"
                    },
                    "metadata": {}
                }
            ]
        },
        {
            "metadata": {},
            "cell_type": "code",
            "source": "set1.issuperset({\"action\",\"comedy\",\"horror\"})  # where .issuperset will become true",
            "execution_count": 20,
            "outputs": [
                {
                    "output_type": "execute_result",
                    "execution_count": 20,
                    "data": {
                        "text/plain": "True"
                    },
                    "metadata": {}
                }
            ]
        },
        {
            "metadata": {},
            "cell_type": "markdown",
            "source": "## Summary\nIn this lab we learned about sets.we can covert lists to sets.\nwe can intersect sets.\nwe can differenciate sets.\nwe have done set operation as add and remove."
        },
        {
            "metadata": {},
            "cell_type": "code",
            "source": "",
            "execution_count": null,
            "outputs": []
        }
    ],
    "metadata": {
        "kernelspec": {
            "name": "python3",
            "display_name": "Python 3.8",
            "language": "python"
        },
        "language_info": {
            "name": "python",
            "version": "3.8.11",
            "mimetype": "text/x-python",
            "codemirror_mode": {
                "name": "ipython",
                "version": 3
            },
            "pygments_lexer": "ipython3",
            "nbconvert_exporter": "python",
            "file_extension": ".py"
        }
    },
    "nbformat": 4,
    "nbformat_minor": 1
}