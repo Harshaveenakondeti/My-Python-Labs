{
    "cells": [
        {
            "metadata": {
                "collapsed": true
            },
            "cell_type": "markdown",
            "source": "# Loops\n\nWe work with loop statements in python, including for-loop and  while-loop.\n\n### range\nrange is like a ordered list\n\n## for-Loop\nThe for-loop enables you to execute a code block multiple times."
        },
        {
            "metadata": {},
            "cell_type": "code",
            "source": "# for loop\n\nlist= [1,2,3,4,5,6]\nN = len(list)\nfor i in range(N):    # it will print out all values in list\n   print(list[i])",
            "execution_count": 6,
            "outputs": [
                {
                    "output_type": "stream",
                    "text": "1\n2\n3\n4\n5\n6\n",
                    "name": "stdout"
                }
            ]
        },
        {
            "metadata": {},
            "cell_type": "code",
            "source": "# for loop without list\n\nfor i in range(0,11):  # it wil print list till 10\n    print(i)",
            "execution_count": 2,
            "outputs": [
                {
                    "output_type": "stream",
                    "text": "0\n1\n2\n3\n4\n5\n6\n7\n8\n9\n10\n",
                    "name": "stdout"
                }
            ]
        },
        {
            "metadata": {},
            "cell_type": "code",
            "source": "# use loop to change elements in list\nfruits = ['apple','banana','cherry']\nfor i in range(len(fruits)):\n  print(\"before change\",i, \"is\",fruits[i])\n  fruits[i]= \"yummy\"\n  print(\"after change\",i,\"is\",fruits[i])",
            "execution_count": 7,
            "outputs": [
                {
                    "output_type": "stream",
                    "text": "before change 0 is apple\nafter change 0 is yummy\nbefore change 1 is banana\nafter change 1 is yummy\nbefore change 2 is cherry\nafter change 2 is yummy\n",
                    "name": "stdout"
                }
            ]
        },
        {
            "metadata": {},
            "cell_type": "code",
            "source": "# loop through the list and iterate\nfruits = ['apple','banana','cherry']\nfor i,fruit in enumerate(fruits):\n    print(i,fruit)\n",
            "execution_count": 8,
            "outputs": [
                {
                    "output_type": "stream",
                    "text": "0 apple\n1 banana\n2 cherry\n",
                    "name": "stdout"
                }
            ]
        },
        {
            "metadata": {},
            "cell_type": "markdown",
            "source": "## While-loop\n\nThe while-loop exists as a tool for repeated execution based on a condition.The code block will keep being executed until the given logical condition returns a **False** boolean value."
        },
        {
            "metadata": {},
            "cell_type": "code",
            "source": "#while loop\nPlayListRatings = [10, 9.5, 10, 8, 7.5, 5, 10, 10]\ni = 0\nRating = PlayListRatings[0]\nwhile(i <len(PlayListRatings) and Rating >=6):\n    Rating = PlayListRatings[i]\n    print(\"rating\")\n    i=i+1",
            "execution_count": 9,
            "outputs": [
                {
                    "output_type": "stream",
                    "text": "rating\nrating\nrating\nrating\nrating\nrating\n",
                    "name": "stdout"
                }
            ]
        },
        {
            "metadata": {},
            "cell_type": "markdown",
            "source": "### Summary\nIn this lab we learned about for and while loops."
        }
    ],
    "metadata": {
        "kernelspec": {
            "name": "python3",
            "display_name": "Python 3.8",
            "language": "python"
        },
        "language_info": {
            "name": "python",
            "version": "3.8.11",
            "mimetype": "text/x-python",
            "codemirror_mode": {
                "name": "ipython",
                "version": 3
            },
            "pygments_lexer": "ipython3",
            "nbconvert_exporter": "python",
            "file_extension": ".py"
        }
    },
    "nbformat": 4,
    "nbformat_minor": 1
}